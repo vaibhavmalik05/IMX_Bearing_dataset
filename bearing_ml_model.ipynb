{
 "cells": [
  {
   "cell_type": "code",
   "execution_count": 1,
   "metadata": {},
   "outputs": [],
   "source": [
    "import pandas as pd\n",
    "import numpy as np\n",
    "import seaborn as sns\n",
    "\n",
    "import matplotlib.pyplot as plt\n",
    "%matplotlib inline"
   ]
  },
  {
   "cell_type": "code",
   "execution_count": 6,
   "metadata": {},
   "outputs": [],
   "source": [
    "df1 = pd.read_csv('Test1.csv',index_col='Timestamp',parse_dates=True)\n",
    "df2 = pd.read_csv('Test2.csv',index_col='Timestamp',parse_dates=True)\n",
    "df3 = pd.read_csv('Test3.csv',index_col='Timestamp',parse_dates=True)"
   ]
  },
  {
   "cell_type": "code",
   "execution_count": 61,
   "metadata": {},
   "outputs": [
    {
     "data": {
      "text/html": [
       "<div>\n",
       "<style scoped>\n",
       "    .dataframe tbody tr th:only-of-type {\n",
       "        vertical-align: middle;\n",
       "    }\n",
       "\n",
       "    .dataframe tbody tr th {\n",
       "        vertical-align: top;\n",
       "    }\n",
       "\n",
       "    .dataframe thead th {\n",
       "        text-align: right;\n",
       "    }\n",
       "</style>\n",
       "<table border=\"1\" class=\"dataframe\">\n",
       "  <thead>\n",
       "    <tr style=\"text-align: right;\">\n",
       "      <th></th>\n",
       "      <th>min</th>\n",
       "      <th>max</th>\n",
       "      <th>range</th>\n",
       "      <th>mean</th>\n",
       "      <th>RMS</th>\n",
       "      <th>standard deviation</th>\n",
       "      <th>skewness</th>\n",
       "      <th>kurtosis</th>\n",
       "      <th>crest factor</th>\n",
       "      <th>form factor</th>\n",
       "      <th>fault</th>\n",
       "    </tr>\n",
       "    <tr>\n",
       "      <th>Timestamp</th>\n",
       "      <th></th>\n",
       "      <th></th>\n",
       "      <th></th>\n",
       "      <th></th>\n",
       "      <th></th>\n",
       "      <th></th>\n",
       "      <th></th>\n",
       "      <th></th>\n",
       "      <th></th>\n",
       "      <th></th>\n",
       "      <th></th>\n",
       "    </tr>\n",
       "  </thead>\n",
       "  <tbody>\n",
       "    <tr>\n",
       "      <th>2003-10-22 12:06:24</th>\n",
       "      <td>-0.720</td>\n",
       "      <td>0.388</td>\n",
       "      <td>1.108</td>\n",
       "      <td>-0.094593</td>\n",
       "      <td>0.124614</td>\n",
       "      <td>0.081124</td>\n",
       "      <td>-0.029995</td>\n",
       "      <td>1.069717</td>\n",
       "      <td>-4.101789</td>\n",
       "      <td>-1.317370</td>\n",
       "      <td>normal</td>\n",
       "    </tr>\n",
       "    <tr>\n",
       "      <th>2003-10-22 12:06:24</th>\n",
       "      <td>-0.564</td>\n",
       "      <td>0.701</td>\n",
       "      <td>1.265</td>\n",
       "      <td>-0.093880</td>\n",
       "      <td>0.117493</td>\n",
       "      <td>0.070650</td>\n",
       "      <td>0.220132</td>\n",
       "      <td>3.066925</td>\n",
       "      <td>-7.466969</td>\n",
       "      <td>-1.251523</td>\n",
       "      <td>normal</td>\n",
       "    </tr>\n",
       "    <tr>\n",
       "      <th>2003-10-22 12:09:13</th>\n",
       "      <td>-0.654</td>\n",
       "      <td>0.388</td>\n",
       "      <td>1.042</td>\n",
       "      <td>-0.094903</td>\n",
       "      <td>0.123811</td>\n",
       "      <td>0.079517</td>\n",
       "      <td>-0.070080</td>\n",
       "      <td>1.162128</td>\n",
       "      <td>-4.088401</td>\n",
       "      <td>-1.304613</td>\n",
       "      <td>normal</td>\n",
       "    </tr>\n",
       "    <tr>\n",
       "      <th>2003-10-22 12:09:13</th>\n",
       "      <td>-0.491</td>\n",
       "      <td>0.581</td>\n",
       "      <td>1.072</td>\n",
       "      <td>-0.093891</td>\n",
       "      <td>0.116833</td>\n",
       "      <td>0.069531</td>\n",
       "      <td>0.126508</td>\n",
       "      <td>2.001798</td>\n",
       "      <td>-6.188019</td>\n",
       "      <td>-1.244340</td>\n",
       "      <td>normal</td>\n",
       "    </tr>\n",
       "    <tr>\n",
       "      <th>2003-10-22 12:14:13</th>\n",
       "      <td>-0.623</td>\n",
       "      <td>0.317</td>\n",
       "      <td>0.940</td>\n",
       "      <td>-0.096187</td>\n",
       "      <td>0.125246</td>\n",
       "      <td>0.080219</td>\n",
       "      <td>-0.041649</td>\n",
       "      <td>0.986819</td>\n",
       "      <td>-3.295670</td>\n",
       "      <td>-1.302116</td>\n",
       "      <td>normal</td>\n",
       "    </tr>\n",
       "  </tbody>\n",
       "</table>\n",
       "</div>"
      ],
      "text/plain": [
       "                       min    max  range      mean       RMS  \\\n",
       "Timestamp                                                      \n",
       "2003-10-22 12:06:24 -0.720  0.388  1.108 -0.094593  0.124614   \n",
       "2003-10-22 12:06:24 -0.564  0.701  1.265 -0.093880  0.117493   \n",
       "2003-10-22 12:09:13 -0.654  0.388  1.042 -0.094903  0.123811   \n",
       "2003-10-22 12:09:13 -0.491  0.581  1.072 -0.093891  0.116833   \n",
       "2003-10-22 12:14:13 -0.623  0.317  0.940 -0.096187  0.125246   \n",
       "\n",
       "                     standard deviation  skewness  kurtosis  crest factor  \\\n",
       "Timestamp                                                                   \n",
       "2003-10-22 12:06:24            0.081124 -0.029995  1.069717     -4.101789   \n",
       "2003-10-22 12:06:24            0.070650  0.220132  3.066925     -7.466969   \n",
       "2003-10-22 12:09:13            0.079517 -0.070080  1.162128     -4.088401   \n",
       "2003-10-22 12:09:13            0.069531  0.126508  2.001798     -6.188019   \n",
       "2003-10-22 12:14:13            0.080219 -0.041649  0.986819     -3.295670   \n",
       "\n",
       "                     form factor   fault  \n",
       "Timestamp                                 \n",
       "2003-10-22 12:06:24    -1.317370  normal  \n",
       "2003-10-22 12:06:24    -1.251523  normal  \n",
       "2003-10-22 12:09:13    -1.304613  normal  \n",
       "2003-10-22 12:09:13    -1.244340  normal  \n",
       "2003-10-22 12:14:13    -1.302116  normal  "
      ]
     },
     "execution_count": 61,
     "metadata": {},
     "output_type": "execute_result"
    }
   ],
   "source": [
    "df = pd.concat([df1,df2,df3])\n",
    "df.head()"
   ]
  },
  {
   "cell_type": "code",
   "execution_count": 62,
   "metadata": {},
   "outputs": [
    {
     "data": {
      "text/plain": [
       "(46480, 11)"
      ]
     },
     "execution_count": 62,
     "metadata": {},
     "output_type": "execute_result"
    }
   ],
   "source": [
    "df.shape"
   ]
  },
  {
   "cell_type": "code",
   "execution_count": 63,
   "metadata": {},
   "outputs": [
    {
     "data": {
      "text/plain": [
       "normal                43809\n",
       "roller defect          1378\n",
       "inner race failure      654\n",
       "outer race failure      639\n",
       "Name: fault, dtype: int64"
      ]
     },
     "execution_count": 63,
     "metadata": {},
     "output_type": "execute_result"
    }
   ],
   "source": [
    "df['fault'].value_counts()"
   ]
  },
  {
   "cell_type": "code",
   "execution_count": 64,
   "metadata": {},
   "outputs": [
    {
     "data": {
      "text/plain": [
       "<AxesSubplot:xlabel='fault', ylabel='count'>"
      ]
     },
     "execution_count": 64,
     "metadata": {},
     "output_type": "execute_result"
    },
    {
     "data": {
      "image/png": "[encoded data removed]",
      "text/plain": [
       "<Figure size 1152x864 with 1 Axes>"
      ]
     },
     "metadata": {
      "needs_background": "light"
     },
     "output_type": "display_data"
    }
   ],
   "source": [
    "plt.figure(figsize=(16,12))\n",
    "sns.countplot(data=df,x=df['fault'])"
   ]
  },
  {
   "cell_type": "markdown",
   "metadata": {},
   "source": [
    "Its observed that the dataset is very much imbalanced and hence needs to be balanced. Making use of random sampler for balancing from imblearn package."
   ]
  },
  {
   "cell_type": "code",
   "execution_count": 67,
   "metadata": {},
   "outputs": [],
   "source": [
    "from imblearn.under_sampling import RandomUnderSampler"
   ]
  },
  {
   "cell_type": "code",
   "execution_count": 68,
   "metadata": {},
   "outputs": [],
   "source": [
    "X = df.drop('fault',axis=1)\n",
    "y = df['fault']"
   ]
  },
  {
   "cell_type": "code",
   "execution_count": 69,
   "metadata": {},
   "outputs": [
    {
     "data": {
      "text/plain": [
       "normal                43809\n",
       "roller defect          1378\n",
       "inner race failure      654\n",
       "outer race failure      639\n",
       "Name: fault, dtype: int64"
      ]
     },
     "execution_count": 69,
     "metadata": {},
     "output_type": "execute_result"
    }
   ],
   "source": [
    "y.value_counts()"
   ]
  },
  {
   "cell_type": "code",
   "execution_count": 70,
   "metadata": {},
   "outputs": [
    {
     "data": {
      "text/plain": [
       "(46480,)"
      ]
     },
     "execution_count": 70,
     "metadata": {},
     "output_type": "execute_result"
    }
   ],
   "source": [
    "y.shape"
   ]
  },
  {
   "cell_type": "code",
   "execution_count": 71,
   "metadata": {},
   "outputs": [],
   "source": [
    "rus = RandomUnderSampler(random_state=42)\n",
    "X_res, y_res = rus.fit_resample(X, y)"
   ]
  },
  {
   "cell_type": "code",
   "execution_count": 78,
   "metadata": {},
   "outputs": [
    {
     "data": {
      "text/plain": [
       "0       inner race failure\n",
       "1       inner race failure\n",
       "2       inner race failure\n",
       "3       inner race failure\n",
       "4       inner race failure\n",
       "               ...        \n",
       "2551         roller defect\n",
       "2552         roller defect\n",
       "2553         roller defect\n",
       "2554         roller defect\n",
       "2555         roller defect\n",
       "Name: fault, Length: 2556, dtype: object"
      ]
     },
     "execution_count": 78,
     "metadata": {},
     "output_type": "execute_result"
    }
   ],
   "source": [
    "y_res"
   ]
  },
  {
   "cell_type": "code",
   "execution_count": 72,
   "metadata": {},
   "outputs": [
    {
     "data": {
      "text/plain": [
       "inner race failure    639\n",
       "normal                639\n",
       "outer race failure    639\n",
       "roller defect         639\n",
       "Name: fault, dtype: int64"
      ]
     },
     "execution_count": 72,
     "metadata": {},
     "output_type": "execute_result"
    }
   ],
   "source": [
    "y_res.value_counts()"
   ]
  },
  {
   "cell_type": "code",
   "execution_count": 76,
   "metadata": {},
   "outputs": [
    {
     "data": {
      "text/plain": [
       "<AxesSubplot:xlabel='fault', ylabel='count'>"
      ]
     },
     "execution_count": 76,
     "metadata": {},
     "output_type": "execute_result"
    },
    {
     "data": {
      "image/png": "[encoded data removed]",
      "text/plain": [
       "<Figure size 1152x864 with 1 Axes>"
      ]
     },
     "metadata": {
      "needs_background": "light"
     },
     "output_type": "display_data"
    }
   ],
   "source": [
    "plt.figure(figsize=(16,12))\n",
    "sns.countplot(x=y_res)"
   ]
  },
  {
   "cell_type": "markdown",
   "metadata": {},
   "source": [
    "test train split"
   ]
  },
  {
   "cell_type": "code",
   "execution_count": 66,
   "metadata": {},
   "outputs": [],
   "source": [
    "from sklearn.model_selection import train_test_split"
   ]
  },
  {
   "cell_type": "code",
   "execution_count": 84,
   "metadata": {},
   "outputs": [],
   "source": [
    "X_train, X_test, y_train, y_test = train_test_split(X_res, y_res, test_size=0.25, shuffle=True, random_state=42)"
   ]
  },
  {
   "cell_type": "code",
   "execution_count": 136,
   "metadata": {},
   "outputs": [],
   "source": [
    "from sklearn.preprocessing import MinMaxScaler,StandardScaler\n",
    "scaler = StandardScaler()"
   ]
  },
  {
   "cell_type": "code",
   "execution_count": 137,
   "metadata": {},
   "outputs": [],
   "source": [
    "scale_X_train = scaler.fit_transform(X_train)\n",
    "scale_X_test = scaler.fit_transform(X_test)"
   ]
  },
  {
   "cell_type": "markdown",
   "metadata": {},
   "source": [
    "## using classifier models like random forest classifier or decision tree classifier"
   ]
  },
  {
   "cell_type": "code",
   "execution_count": 138,
   "metadata": {},
   "outputs": [],
   "source": [
    "from sklearn.ensemble import RandomForestClassifier,GradientBoostingClassifier\n",
    "from sklearn.model_selection import GridSearchCV"
   ]
  },
  {
   "cell_type": "code",
   "execution_count": 139,
   "metadata": {},
   "outputs": [],
   "source": [
    "import warnings\n",
    "warnings.filterwarnings(\"ignore\")"
   ]
  },
  {
   "cell_type": "code",
   "execution_count": 145,
   "metadata": {},
   "outputs": [
    {
     "name": "stdout",
     "output_type": "stream",
     "text": [
      "Best model parameters:  {'max_depth': 9, 'min_samples_leaf': 2, 'min_samples_split': 5, 'n_estimators': 40}\n",
      "Best model:  RandomForestClassifier(max_depth=9, min_samples_leaf=2, min_samples_split=5,\n",
      "                       n_estimators=40)\n"
     ]
    }
   ],
   "source": [
    "parameters_rfc = {'max_depth': np.arange(2,10,1),\n",
    "                    'min_samples_split': np.arange(2,10,1),\n",
    "                    'min_samples_leaf' : np.arange(1,3,1),\n",
    "                    'n_estimators' : np.arange(10,100,10) }\n",
    "\n",
    "grid_rfc = GridSearchCV(estimator=RandomForestClassifier(), \n",
    "                        param_grid = parameters_rfc, \n",
    "                        n_jobs= -1, \n",
    "                        refit=True, \n",
    "                        cv=5, \n",
    "                        return_train_score = True)\n",
    "\n",
    "grid_rfc.fit(scale_X_train,y_train)\n",
    "\n",
    "print('Best model parameters: ', grid_rfc.best_params_)\n",
    "print('Best model: ',grid_rfc.best_estimator_)"
   ]
  },
  {
   "cell_type": "code",
   "execution_count": 147,
   "metadata": {},
   "outputs": [
    {
     "data": {
      "text/plain": [
       "RandomForestClassifier(max_depth=9, min_samples_leaf=2, min_samples_split=5,\n",
       "                       n_estimators=40)"
      ]
     },
     "execution_count": 147,
     "metadata": {},
     "output_type": "execute_result"
    }
   ],
   "source": [
    "rfc = RandomForestClassifier(max_depth = 9,\n",
    "                                min_samples_leaf=2,\n",
    "                                min_samples_split=5,\n",
    "                                n_estimators=40)\n",
    "rfc.fit(scale_X_train,y_train)"
   ]
  },
  {
   "cell_type": "code",
   "execution_count": 148,
   "metadata": {},
   "outputs": [],
   "source": [
    "rfc_test_pred = rfc.predict(scale_X_test)\n",
    "rfc_train_pred = rfc.predict(scale_X_train)"
   ]
  },
  {
   "cell_type": "code",
   "execution_count": 98,
   "metadata": {},
   "outputs": [],
   "source": [
    "from sklearn.metrics import confusion_matrix,classification_report,accuracy_score, ConfusionMatrixDisplay"
   ]
  },
  {
   "cell_type": "code",
   "execution_count": 149,
   "metadata": {},
   "outputs": [
    {
     "name": "stdout",
     "output_type": "stream",
     "text": [
      "Training set \n",
      "                     precision    recall  f1-score   support\n",
      "\n",
      "inner race failure       0.96      0.99      0.98       476\n",
      "            normal       0.99      0.98      0.99       479\n",
      "outer race failure       0.99      1.00      0.99       489\n",
      "     roller defect       1.00      0.96      0.98       473\n",
      "\n",
      "          accuracy                           0.98      1917\n",
      "         macro avg       0.98      0.98      0.98      1917\n",
      "      weighted avg       0.98      0.98      0.98      1917\n",
      "\n",
      "Test set \n",
      "                     precision    recall  f1-score   support\n",
      "\n",
      "inner race failure       0.88      0.91      0.90       163\n",
      "            normal       0.94      0.91      0.92       160\n",
      "outer race failure       0.92      1.00      0.96       150\n",
      "     roller defect       0.93      0.85      0.89       166\n",
      "\n",
      "          accuracy                           0.92       639\n",
      "         macro avg       0.92      0.92      0.92       639\n",
      "      weighted avg       0.92      0.92      0.91       639\n",
      "\n"
     ]
    }
   ],
   "source": [
    "print('Training set \\n',classification_report(y_train,rfc_train_pred))\n",
    "print('Test set \\n', classification_report(y_test,rfc_test_pred))"
   ]
  }
 ],
 "metadata": {
  "interpreter": {
   "hash": "434186e54c9b48adfa9cd41de1381e2af423a88c4a5698b2c6333a0c5423f25c"
  },
  "kernelspec": {
   "display_name": "Python 3.8.8 ('base')",
   "language": "python",
   "name": "python3"
  },
  "language_info": {
   "codemirror_mode": {
    "name": "ipython",
    "version": 3
   },
   "file_extension": ".py",
   "mimetype": "text/x-python",
   "name": "python",
   "nbconvert_exporter": "python",
   "pygments_lexer": "ipython3",
   "version": "3.8.8"
  },
  "orig_nbformat": 4
 },
 "nbformat": 4,
 "nbformat_minor": 2
}
